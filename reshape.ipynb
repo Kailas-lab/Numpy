{
 "cells": [
  {
   "cell_type": "code",
   "execution_count": 1,
   "metadata": {},
   "outputs": [
    {
     "name": "stdout",
     "output_type": "stream",
     "text": [
      "[[ 1  2  3]\n",
      " [ 4  5  6]\n",
      " [ 7  8  9]\n",
      " [10 11 12]]\n"
     ]
    }
   ],
   "source": [
    "#Reshape From 1-D to 2-D\n",
    "\n",
    "import numpy as np # type: ignore\n",
    "\n",
    "arr = np.array([1, 2, 3, 4, 5, 6, 7, 8, 9, 10, 11, 12])\n",
    "\n",
    "newarr = arr.reshape(4, 3)\n",
    "\n",
    "print(newarr)"
   ]
  },
  {
   "cell_type": "code",
   "execution_count": 2,
   "metadata": {},
   "outputs": [
    {
     "name": "stdout",
     "output_type": "stream",
     "text": [
      "[[[ 1  2]\n",
      "  [ 3  4]\n",
      "  [ 5  6]]\n",
      "\n",
      " [[ 7  8]\n",
      "  [ 9 10]\n",
      "  [11 12]]]\n"
     ]
    }
   ],
   "source": [
    "#Reshape From 1-D to 3-D\n",
    "\n",
    "import numpy as np\n",
    "\n",
    "arr = np.array([1, 2, 3, 4, 5, 6, 7, 8, 9, 10, 11, 12])\n",
    "\n",
    "newarr = arr.reshape(2, 3, 2)\n",
    "\n",
    "print(newarr)\n"
   ]
  },
  {
   "cell_type": "code",
   "execution_count": 3,
   "metadata": {},
   "outputs": [
    {
     "name": "stdout",
     "output_type": "stream",
     "text": [
      "[1 2 3 4 5 6 7 8]\n"
     ]
    }
   ],
   "source": [
    "import numpy as np\n",
    "\n",
    "arr = np.array([1, 2, 3, 4, 5, 6, 7, 8])\n",
    "\n",
    "print(arr.reshape(2, 4).base)\n",
    "\n",
    "\"\"\"\n",
    "\n",
    "arr = np.array([1, 2, 3, 4, 5, 6, 7, 8]) creates a 1D NumPy array.\n",
    "\n",
    "arr.reshape(2, 4) reshapes the 1D array into a 2D array with 2 rows and 4 columns. Importantly, reshape in NumPy typically returns a view of the original array, not a copy.\n",
    "\n",
    "print(arr.reshape(2, 4).base) checks the base of the reshaped array. Since the reshaped array is a view of the original arr, the .base attribute should point to the original array.\n",
    "\n",
    "\n",
    "\"\"\""
   ]
  },
  {
   "cell_type": "code",
   "execution_count": 4,
   "metadata": {},
   "outputs": [
    {
     "name": "stdout",
     "output_type": "stream",
     "text": [
      "[[[1 2]\n",
      "  [3 4]]\n",
      "\n",
      " [[5 6]\n",
      "  [7 8]]]\n"
     ]
    }
   ],
   "source": [
    "import numpy as np\n",
    "\n",
    "arr = np.array([1, 2, 3, 4, 5, 6, 7, 8])\n",
    "\n",
    "newarr = arr.reshape(2, 2, -1)\n",
    "\n",
    "print(newarr)\n",
    "\n",
    "\"\"\"\n",
    "\n",
    "arr = np.array([1, 2, 3, 4, 5, 6, 7, 8]) creates a 1D NumPy array with 8 elements.\n",
    "\n",
    "newarr = arr.reshape(2, 2, -1) reshapes the array into a 3D array. The dimensions specified are (2, 2, -1). The -1 in the reshape function allows NumPy to automatically calculate the size of that dimension based on the size of the original array and the other specified dimensions.\n",
    "\n",
    "The first dimension is 2, which means there will be 2 sub-arrays.\n",
    "The second dimension is also 2, so each sub-array will have 2 rows.\n",
    "The -1 for the third dimension indicates that NumPy should figure out how many columns are needed based on the total number of elements (which is 8 in this case).\n",
    "Since the total number of elements is 8, and the first two dimensions account for 2 * 2 = 4 elements, the third dimension must be 8 / 4 = 2 elements.\n",
    "\n",
    "Therefore, the array will be reshaped into a 2x2x2 3D array.\n",
    "\n",
    "print(newarr) prints the reshaped 3D array.\n",
    "\n",
    "\"\"\""
   ]
  },
  {
   "cell_type": "code",
   "execution_count": 5,
   "metadata": {},
   "outputs": [
    {
     "name": "stdout",
     "output_type": "stream",
     "text": [
      "[1 2 3 4 5 6]\n"
     ]
    },
    {
     "data": {
      "text/plain": [
       "'\\nFlattening array means converting a multidimensional array into a 1D array.\\n\\nWe can use reshape(-1) to do this.\\n\\n'"
      ]
     },
     "execution_count": 5,
     "metadata": {},
     "output_type": "execute_result"
    }
   ],
   "source": [
    "import numpy as np\n",
    "\n",
    "arr = np.array([[1, 2, 3], [4, 5, 6]])\n",
    "\n",
    "newarr = arr.reshape(-1)\n",
    "\n",
    "print(newarr)\n",
    "\n",
    "\n",
    "\"\"\"\n",
    "Flattening array means converting a multidimensional array into a 1D array.\n",
    "\n",
    "We can use reshape(-1) to do this.\n",
    "\n",
    "\"\"\""
   ]
  }
 ],
 "metadata": {
  "kernelspec": {
   "display_name": "Python 3",
   "language": "python",
   "name": "python3"
  },
  "language_info": {
   "codemirror_mode": {
    "name": "ipython",
    "version": 3
   },
   "file_extension": ".py",
   "mimetype": "text/x-python",
   "name": "python",
   "nbconvert_exporter": "python",
   "pygments_lexer": "ipython3",
   "version": "3.12.1"
  }
 },
 "nbformat": 4,
 "nbformat_minor": 2
}
